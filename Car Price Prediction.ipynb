{
 "cells": [
  {
   "cell_type": "markdown",
   "metadata": {},
   "source": [
    "# Car Price Prediction (ML Regression)\n"
   ]
  },
  {
   "cell_type": "markdown",
   "metadata": {},
   "source": [
    "#### In this notebook, I have made an attempt to develop a model to predict the car prices using ML Regression. The dataset for the project is taken from Kaggle. Here, I have implemented various ML regression models and finally selected Voting Regressor as it gave me best scores for efficient model deployment."
   ]
  },
  {
   "cell_type": "markdown",
   "metadata": {},
   "source": [
    "## Importing the Libraries and the Dataset "
   ]
  },
  {
   "cell_type": "code",
   "execution_count": 1,
   "metadata": {
    "ExecuteTime": {
     "end_time": "2021-04-13T10:37:23.472927Z",
     "start_time": "2021-04-13T10:37:20.172342Z"
    }
   },
   "outputs": [],
   "source": [
    "#importing the libraries\n",
    "import numpy as np\n",
    "import pandas as pd\n",
    "import matplotlib.pyplot as plt\n",
    "import seaborn as sns"
   ]
  },
  {
   "cell_type": "code",
   "execution_count": 2,
   "metadata": {
    "ExecuteTime": {
     "end_time": "2021-04-13T10:37:23.554351Z",
     "start_time": "2021-04-13T10:37:23.476927Z"
    }
   },
   "outputs": [
    {
     "name": "stdout",
     "output_type": "stream",
     "text": [
      "(15157, 8)\n"
     ]
    },
    {
     "data": {
      "text/html": [
       "<div>\n",
       "<style scoped>\n",
       "    .dataframe tbody tr th:only-of-type {\n",
       "        vertical-align: middle;\n",
       "    }\n",
       "\n",
       "    .dataframe tbody tr th {\n",
       "        vertical-align: top;\n",
       "    }\n",
       "\n",
       "    .dataframe thead th {\n",
       "        text-align: right;\n",
       "    }\n",
       "</style>\n",
       "<table border=\"1\" class=\"dataframe\">\n",
       "  <thead>\n",
       "    <tr style=\"text-align: right;\">\n",
       "      <th></th>\n",
       "      <th>year</th>\n",
       "      <th>price</th>\n",
       "      <th>transmission</th>\n",
       "      <th>mileage</th>\n",
       "      <th>fuelType</th>\n",
       "      <th>tax</th>\n",
       "      <th>mpg</th>\n",
       "      <th>engineSize</th>\n",
       "    </tr>\n",
       "  </thead>\n",
       "  <tbody>\n",
       "    <tr>\n",
       "      <th>0</th>\n",
       "      <td>2019</td>\n",
       "      <td>25000</td>\n",
       "      <td>Automatic</td>\n",
       "      <td>13904</td>\n",
       "      <td>Diesel</td>\n",
       "      <td>145</td>\n",
       "      <td>49.6</td>\n",
       "      <td>2.0</td>\n",
       "    </tr>\n",
       "    <tr>\n",
       "      <th>1</th>\n",
       "      <td>2019</td>\n",
       "      <td>26883</td>\n",
       "      <td>Automatic</td>\n",
       "      <td>4562</td>\n",
       "      <td>Diesel</td>\n",
       "      <td>145</td>\n",
       "      <td>49.6</td>\n",
       "      <td>2.0</td>\n",
       "    </tr>\n",
       "    <tr>\n",
       "      <th>2</th>\n",
       "      <td>2019</td>\n",
       "      <td>20000</td>\n",
       "      <td>Manual</td>\n",
       "      <td>7414</td>\n",
       "      <td>Diesel</td>\n",
       "      <td>145</td>\n",
       "      <td>50.4</td>\n",
       "      <td>2.0</td>\n",
       "    </tr>\n",
       "    <tr>\n",
       "      <th>3</th>\n",
       "      <td>2019</td>\n",
       "      <td>33492</td>\n",
       "      <td>Automatic</td>\n",
       "      <td>4825</td>\n",
       "      <td>Petrol</td>\n",
       "      <td>145</td>\n",
       "      <td>32.5</td>\n",
       "      <td>2.0</td>\n",
       "    </tr>\n",
       "    <tr>\n",
       "      <th>4</th>\n",
       "      <td>2019</td>\n",
       "      <td>22900</td>\n",
       "      <td>Semi-Auto</td>\n",
       "      <td>6500</td>\n",
       "      <td>Petrol</td>\n",
       "      <td>150</td>\n",
       "      <td>39.8</td>\n",
       "      <td>1.5</td>\n",
       "    </tr>\n",
       "  </tbody>\n",
       "</table>\n",
       "</div>"
      ],
      "text/plain": [
       "   year  price transmission  mileage fuelType  tax   mpg  engineSize\n",
       "0  2019  25000    Automatic    13904   Diesel  145  49.6         2.0\n",
       "1  2019  26883    Automatic     4562   Diesel  145  49.6         2.0\n",
       "2  2019  20000       Manual     7414   Diesel  145  50.4         2.0\n",
       "3  2019  33492    Automatic     4825   Petrol  145  32.5         2.0\n",
       "4  2019  22900    Semi-Auto     6500   Petrol  150  39.8         1.5"
      ]
     },
     "execution_count": 2,
     "metadata": {},
     "output_type": "execute_result"
    }
   ],
   "source": [
    "#reading the dataset\n",
    "data=pd.read_csv('car-data.csv')\n",
    "print(data.shape)\n",
    "data.head()"
   ]
  },
  {
   "cell_type": "markdown",
   "metadata": {},
   "source": [
    "From the dataset preview, Selling_Price is the dependent variable and the rest are independent variables"
   ]
  },
  {
   "cell_type": "markdown",
   "metadata": {},
   "source": [
    "## Checking if there are any missing values"
   ]
  },
  {
   "cell_type": "code",
   "execution_count": 3,
   "metadata": {
    "ExecuteTime": {
     "end_time": "2021-04-13T10:37:23.588778Z",
     "start_time": "2021-04-13T10:37:23.558352Z"
    }
   },
   "outputs": [
    {
     "data": {
      "text/plain": [
       "year            0\n",
       "price           0\n",
       "transmission    0\n",
       "mileage         0\n",
       "fuelType        0\n",
       "tax             0\n",
       "mpg             0\n",
       "engineSize      0\n",
       "dtype: int64"
      ]
     },
     "execution_count": 3,
     "metadata": {},
     "output_type": "execute_result"
    }
   ],
   "source": [
    "data.isnull().sum()"
   ]
  },
  {
   "cell_type": "markdown",
   "metadata": {},
   "source": [
    "There are no missing values in the dataset"
   ]
  },
  {
   "cell_type": "markdown",
   "metadata": {},
   "source": [
    "## Checking cardinality of independent categorical variables in the dataset"
   ]
  },
  {
   "cell_type": "code",
   "execution_count": 4,
   "metadata": {
    "ExecuteTime": {
     "end_time": "2021-04-13T10:37:23.622009Z",
     "start_time": "2021-04-13T10:37:23.592777Z"
    }
   },
   "outputs": [
    {
     "name": "stdout",
     "output_type": "stream",
     "text": [
      "Unique elements in Fuel_Type are ['Diesel' 'Petrol' 'Other' 'Hybrid']\n",
      "Unique elements in Transmission are ['Automatic' 'Manual' 'Semi-Auto']\n",
      "Unique elements in Year are [2019 2020 2018 2017 2015 2016 2013 2014 2009 2010 2004 2003 2012 2011\n",
      " 2008 2000 2006 2002 2005 2007 2001]\n"
     ]
    }
   ],
   "source": [
    "\n",
    "print('Unique elements in Fuel_Type are',data['fuelType'].unique())\n",
    "print('Unique elements in Transmission are',data['transmission'].unique())\n",
    "print('Unique elements in Year are',data['year'].unique())"
   ]
  },
  {
   "cell_type": "code",
   "execution_count": 5,
   "metadata": {
    "ExecuteTime": {
     "end_time": "2021-04-13T10:37:23.714761Z",
     "start_time": "2021-04-13T10:37:23.626012Z"
    }
   },
   "outputs": [
    {
     "data": {
      "text/html": [
       "<div>\n",
       "<style scoped>\n",
       "    .dataframe tbody tr th:only-of-type {\n",
       "        vertical-align: middle;\n",
       "    }\n",
       "\n",
       "    .dataframe tbody tr th {\n",
       "        vertical-align: top;\n",
       "    }\n",
       "\n",
       "    .dataframe thead th {\n",
       "        text-align: right;\n",
       "    }\n",
       "</style>\n",
       "<table border=\"1\" class=\"dataframe\">\n",
       "  <thead>\n",
       "    <tr style=\"text-align: right;\">\n",
       "      <th></th>\n",
       "      <th>year</th>\n",
       "      <th>price</th>\n",
       "      <th>mileage</th>\n",
       "      <th>tax</th>\n",
       "      <th>mpg</th>\n",
       "      <th>engineSize</th>\n",
       "    </tr>\n",
       "  </thead>\n",
       "  <tbody>\n",
       "    <tr>\n",
       "      <th>count</th>\n",
       "      <td>15157.000000</td>\n",
       "      <td>15157.000000</td>\n",
       "      <td>15157.000000</td>\n",
       "      <td>15157.000000</td>\n",
       "      <td>15157.000000</td>\n",
       "      <td>15157.000000</td>\n",
       "    </tr>\n",
       "    <tr>\n",
       "      <th>mean</th>\n",
       "      <td>2017.255789</td>\n",
       "      <td>16838.952365</td>\n",
       "      <td>22092.785644</td>\n",
       "      <td>112.744277</td>\n",
       "      <td>53.753355</td>\n",
       "      <td>1.600693</td>\n",
       "    </tr>\n",
       "    <tr>\n",
       "      <th>std</th>\n",
       "      <td>2.053059</td>\n",
       "      <td>7755.015206</td>\n",
       "      <td>21148.941635</td>\n",
       "      <td>63.482617</td>\n",
       "      <td>13.642182</td>\n",
       "      <td>0.461695</td>\n",
       "    </tr>\n",
       "    <tr>\n",
       "      <th>min</th>\n",
       "      <td>2000.000000</td>\n",
       "      <td>899.000000</td>\n",
       "      <td>1.000000</td>\n",
       "      <td>0.000000</td>\n",
       "      <td>0.300000</td>\n",
       "      <td>0.000000</td>\n",
       "    </tr>\n",
       "    <tr>\n",
       "      <th>25%</th>\n",
       "      <td>2016.000000</td>\n",
       "      <td>10990.000000</td>\n",
       "      <td>5962.000000</td>\n",
       "      <td>30.000000</td>\n",
       "      <td>46.300000</td>\n",
       "      <td>1.200000</td>\n",
       "    </tr>\n",
       "    <tr>\n",
       "      <th>50%</th>\n",
       "      <td>2017.000000</td>\n",
       "      <td>15497.000000</td>\n",
       "      <td>16393.000000</td>\n",
       "      <td>145.000000</td>\n",
       "      <td>53.300000</td>\n",
       "      <td>1.600000</td>\n",
       "    </tr>\n",
       "    <tr>\n",
       "      <th>75%</th>\n",
       "      <td>2019.000000</td>\n",
       "      <td>20998.000000</td>\n",
       "      <td>31824.000000</td>\n",
       "      <td>145.000000</td>\n",
       "      <td>60.100000</td>\n",
       "      <td>2.000000</td>\n",
       "    </tr>\n",
       "    <tr>\n",
       "      <th>max</th>\n",
       "      <td>2020.000000</td>\n",
       "      <td>69994.000000</td>\n",
       "      <td>212000.000000</td>\n",
       "      <td>580.000000</td>\n",
       "      <td>188.300000</td>\n",
       "      <td>3.200000</td>\n",
       "    </tr>\n",
       "  </tbody>\n",
       "</table>\n",
       "</div>"
      ],
      "text/plain": [
       "               year         price        mileage           tax           mpg  \\\n",
       "count  15157.000000  15157.000000   15157.000000  15157.000000  15157.000000   \n",
       "mean    2017.255789  16838.952365   22092.785644    112.744277     53.753355   \n",
       "std        2.053059   7755.015206   21148.941635     63.482617     13.642182   \n",
       "min     2000.000000    899.000000       1.000000      0.000000      0.300000   \n",
       "25%     2016.000000  10990.000000    5962.000000     30.000000     46.300000   \n",
       "50%     2017.000000  15497.000000   16393.000000    145.000000     53.300000   \n",
       "75%     2019.000000  20998.000000   31824.000000    145.000000     60.100000   \n",
       "max     2020.000000  69994.000000  212000.000000    580.000000    188.300000   \n",
       "\n",
       "         engineSize  \n",
       "count  15157.000000  \n",
       "mean       1.600693  \n",
       "std        0.461695  \n",
       "min        0.000000  \n",
       "25%        1.200000  \n",
       "50%        1.600000  \n",
       "75%        2.000000  \n",
       "max        3.200000  "
      ]
     },
     "execution_count": 5,
     "metadata": {},
     "output_type": "execute_result"
    }
   ],
   "source": [
    "data.describe()"
   ]
  },
  {
   "cell_type": "markdown",
   "metadata": {},
   "source": [
    "# Feature Engineering"
   ]
  },
  {
   "cell_type": "markdown",
   "metadata": {},
   "source": [
    "Dropping the Car_Name Column"
   ]
  },
  {
   "cell_type": "code",
   "execution_count": 6,
   "metadata": {
    "ExecuteTime": {
     "end_time": "2021-04-13T10:37:23.762276Z",
     "start_time": "2021-04-13T10:37:23.718765Z"
    }
   },
   "outputs": [
    {
     "data": {
      "text/html": [
       "<div>\n",
       "<style scoped>\n",
       "    .dataframe tbody tr th:only-of-type {\n",
       "        vertical-align: middle;\n",
       "    }\n",
       "\n",
       "    .dataframe tbody tr th {\n",
       "        vertical-align: top;\n",
       "    }\n",
       "\n",
       "    .dataframe thead th {\n",
       "        text-align: right;\n",
       "    }\n",
       "</style>\n",
       "<table border=\"1\" class=\"dataframe\">\n",
       "  <thead>\n",
       "    <tr style=\"text-align: right;\">\n",
       "      <th></th>\n",
       "      <th>price</th>\n",
       "      <th>year</th>\n",
       "      <th>mpg</th>\n",
       "      <th>tax</th>\n",
       "      <th>fuelType</th>\n",
       "      <th>engineSize</th>\n",
       "      <th>transmission</th>\n",
       "      <th>mileage</th>\n",
       "    </tr>\n",
       "  </thead>\n",
       "  <tbody>\n",
       "    <tr>\n",
       "      <th>0</th>\n",
       "      <td>25000</td>\n",
       "      <td>2019</td>\n",
       "      <td>49.6</td>\n",
       "      <td>145</td>\n",
       "      <td>Diesel</td>\n",
       "      <td>2.0</td>\n",
       "      <td>Automatic</td>\n",
       "      <td>13904</td>\n",
       "    </tr>\n",
       "    <tr>\n",
       "      <th>1</th>\n",
       "      <td>26883</td>\n",
       "      <td>2019</td>\n",
       "      <td>49.6</td>\n",
       "      <td>145</td>\n",
       "      <td>Diesel</td>\n",
       "      <td>2.0</td>\n",
       "      <td>Automatic</td>\n",
       "      <td>4562</td>\n",
       "    </tr>\n",
       "    <tr>\n",
       "      <th>2</th>\n",
       "      <td>20000</td>\n",
       "      <td>2019</td>\n",
       "      <td>50.4</td>\n",
       "      <td>145</td>\n",
       "      <td>Diesel</td>\n",
       "      <td>2.0</td>\n",
       "      <td>Manual</td>\n",
       "      <td>7414</td>\n",
       "    </tr>\n",
       "    <tr>\n",
       "      <th>3</th>\n",
       "      <td>33492</td>\n",
       "      <td>2019</td>\n",
       "      <td>32.5</td>\n",
       "      <td>145</td>\n",
       "      <td>Petrol</td>\n",
       "      <td>2.0</td>\n",
       "      <td>Automatic</td>\n",
       "      <td>4825</td>\n",
       "    </tr>\n",
       "    <tr>\n",
       "      <th>4</th>\n",
       "      <td>22900</td>\n",
       "      <td>2019</td>\n",
       "      <td>39.8</td>\n",
       "      <td>150</td>\n",
       "      <td>Petrol</td>\n",
       "      <td>1.5</td>\n",
       "      <td>Semi-Auto</td>\n",
       "      <td>6500</td>\n",
       "    </tr>\n",
       "  </tbody>\n",
       "</table>\n",
       "</div>"
      ],
      "text/plain": [
       "   price  year   mpg  tax fuelType  engineSize transmission  mileage\n",
       "0  25000  2019  49.6  145   Diesel         2.0    Automatic    13904\n",
       "1  26883  2019  49.6  145   Diesel         2.0    Automatic     4562\n",
       "2  20000  2019  50.4  145   Diesel         2.0       Manual     7414\n",
       "3  33492  2019  32.5  145   Petrol         2.0    Automatic     4825\n",
       "4  22900  2019  39.8  150   Petrol         1.5    Semi-Auto     6500"
      ]
     },
     "execution_count": 6,
     "metadata": {},
     "output_type": "execute_result"
    }
   ],
   "source": [
    "dataset=data[['price','year','mpg','tax','fuelType','engineSize','transmission','mileage']]\n",
    "dataset.head()"
   ]
  },
  {
   "cell_type": "markdown",
   "metadata": {},
   "source": [
    "#### Let's make a feature variable 'Present_Year' which has all the element values as 2020. On subtracting 'Present_Year' and 'Year', we can make another feature variable as 'Number_of_Years_Old', which gives us idea about how old the car is.  "
   ]
  },
  {
   "cell_type": "code",
   "execution_count": 7,
   "metadata": {
    "ExecuteTime": {
     "end_time": "2021-04-13T10:37:23.841801Z",
     "start_time": "2021-04-13T10:37:23.767366Z"
    }
   },
   "outputs": [
    {
     "name": "stderr",
     "output_type": "stream",
     "text": [
      "<ipython-input-7-0d1ed3a0d149>:1: SettingWithCopyWarning: \n",
      "A value is trying to be set on a copy of a slice from a DataFrame.\n",
      "Try using .loc[row_indexer,col_indexer] = value instead\n",
      "\n",
      "See the caveats in the documentation: https://pandas.pydata.org/pandas-docs/stable/user_guide/indexing.html#returning-a-view-versus-a-copy\n",
      "  dataset['Present_Year']=2021\n",
      "<ipython-input-7-0d1ed3a0d149>:2: SettingWithCopyWarning: \n",
      "A value is trying to be set on a copy of a slice from a DataFrame.\n",
      "Try using .loc[row_indexer,col_indexer] = value instead\n",
      "\n",
      "See the caveats in the documentation: https://pandas.pydata.org/pandas-docs/stable/user_guide/indexing.html#returning-a-view-versus-a-copy\n",
      "  dataset['Number_of_Years_Old']=dataset['Present_Year']- dataset['year']\n"
     ]
    },
    {
     "data": {
      "text/html": [
       "<div>\n",
       "<style scoped>\n",
       "    .dataframe tbody tr th:only-of-type {\n",
       "        vertical-align: middle;\n",
       "    }\n",
       "\n",
       "    .dataframe tbody tr th {\n",
       "        vertical-align: top;\n",
       "    }\n",
       "\n",
       "    .dataframe thead th {\n",
       "        text-align: right;\n",
       "    }\n",
       "</style>\n",
       "<table border=\"1\" class=\"dataframe\">\n",
       "  <thead>\n",
       "    <tr style=\"text-align: right;\">\n",
       "      <th></th>\n",
       "      <th>price</th>\n",
       "      <th>year</th>\n",
       "      <th>mpg</th>\n",
       "      <th>tax</th>\n",
       "      <th>fuelType</th>\n",
       "      <th>engineSize</th>\n",
       "      <th>transmission</th>\n",
       "      <th>mileage</th>\n",
       "      <th>Present_Year</th>\n",
       "      <th>Number_of_Years_Old</th>\n",
       "    </tr>\n",
       "  </thead>\n",
       "  <tbody>\n",
       "    <tr>\n",
       "      <th>0</th>\n",
       "      <td>25000</td>\n",
       "      <td>2019</td>\n",
       "      <td>49.6</td>\n",
       "      <td>145</td>\n",
       "      <td>Diesel</td>\n",
       "      <td>2.0</td>\n",
       "      <td>Automatic</td>\n",
       "      <td>13904</td>\n",
       "      <td>2021</td>\n",
       "      <td>2</td>\n",
       "    </tr>\n",
       "    <tr>\n",
       "      <th>1</th>\n",
       "      <td>26883</td>\n",
       "      <td>2019</td>\n",
       "      <td>49.6</td>\n",
       "      <td>145</td>\n",
       "      <td>Diesel</td>\n",
       "      <td>2.0</td>\n",
       "      <td>Automatic</td>\n",
       "      <td>4562</td>\n",
       "      <td>2021</td>\n",
       "      <td>2</td>\n",
       "    </tr>\n",
       "    <tr>\n",
       "      <th>2</th>\n",
       "      <td>20000</td>\n",
       "      <td>2019</td>\n",
       "      <td>50.4</td>\n",
       "      <td>145</td>\n",
       "      <td>Diesel</td>\n",
       "      <td>2.0</td>\n",
       "      <td>Manual</td>\n",
       "      <td>7414</td>\n",
       "      <td>2021</td>\n",
       "      <td>2</td>\n",
       "    </tr>\n",
       "    <tr>\n",
       "      <th>3</th>\n",
       "      <td>33492</td>\n",
       "      <td>2019</td>\n",
       "      <td>32.5</td>\n",
       "      <td>145</td>\n",
       "      <td>Petrol</td>\n",
       "      <td>2.0</td>\n",
       "      <td>Automatic</td>\n",
       "      <td>4825</td>\n",
       "      <td>2021</td>\n",
       "      <td>2</td>\n",
       "    </tr>\n",
       "    <tr>\n",
       "      <th>4</th>\n",
       "      <td>22900</td>\n",
       "      <td>2019</td>\n",
       "      <td>39.8</td>\n",
       "      <td>150</td>\n",
       "      <td>Petrol</td>\n",
       "      <td>1.5</td>\n",
       "      <td>Semi-Auto</td>\n",
       "      <td>6500</td>\n",
       "      <td>2021</td>\n",
       "      <td>2</td>\n",
       "    </tr>\n",
       "  </tbody>\n",
       "</table>\n",
       "</div>"
      ],
      "text/plain": [
       "   price  year   mpg  tax fuelType  engineSize transmission  mileage  \\\n",
       "0  25000  2019  49.6  145   Diesel         2.0    Automatic    13904   \n",
       "1  26883  2019  49.6  145   Diesel         2.0    Automatic     4562   \n",
       "2  20000  2019  50.4  145   Diesel         2.0       Manual     7414   \n",
       "3  33492  2019  32.5  145   Petrol         2.0    Automatic     4825   \n",
       "4  22900  2019  39.8  150   Petrol         1.5    Semi-Auto     6500   \n",
       "\n",
       "   Present_Year  Number_of_Years_Old  \n",
       "0          2021                    2  \n",
       "1          2021                    2  \n",
       "2          2021                    2  \n",
       "3          2021                    2  \n",
       "4          2021                    2  "
      ]
     },
     "execution_count": 7,
     "metadata": {},
     "output_type": "execute_result"
    }
   ],
   "source": [
    "dataset['Present_Year']=2021\n",
    "dataset['Number_of_Years_Old']=dataset['Present_Year']- dataset['year']\n",
    "dataset.head()"
   ]
  },
  {
   "cell_type": "markdown",
   "metadata": {},
   "source": [
    "So, we can now safely drop 'Year' and 'Present_Year' columns "
   ]
  },
  {
   "cell_type": "code",
   "execution_count": 8,
   "metadata": {
    "ExecuteTime": {
     "end_time": "2021-04-13T10:37:23.888423Z",
     "start_time": "2021-04-13T10:37:23.845802Z"
    }
   },
   "outputs": [
    {
     "data": {
      "text/html": [
       "<div>\n",
       "<style scoped>\n",
       "    .dataframe tbody tr th:only-of-type {\n",
       "        vertical-align: middle;\n",
       "    }\n",
       "\n",
       "    .dataframe tbody tr th {\n",
       "        vertical-align: top;\n",
       "    }\n",
       "\n",
       "    .dataframe thead th {\n",
       "        text-align: right;\n",
       "    }\n",
       "</style>\n",
       "<table border=\"1\" class=\"dataframe\">\n",
       "  <thead>\n",
       "    <tr style=\"text-align: right;\">\n",
       "      <th></th>\n",
       "      <th>price</th>\n",
       "      <th>mpg</th>\n",
       "      <th>tax</th>\n",
       "      <th>fuelType</th>\n",
       "      <th>engineSize</th>\n",
       "      <th>transmission</th>\n",
       "      <th>mileage</th>\n",
       "      <th>Number_of_Years_Old</th>\n",
       "    </tr>\n",
       "  </thead>\n",
       "  <tbody>\n",
       "    <tr>\n",
       "      <th>0</th>\n",
       "      <td>25000</td>\n",
       "      <td>49.6</td>\n",
       "      <td>145</td>\n",
       "      <td>Diesel</td>\n",
       "      <td>2.0</td>\n",
       "      <td>Automatic</td>\n",
       "      <td>13904</td>\n",
       "      <td>2</td>\n",
       "    </tr>\n",
       "    <tr>\n",
       "      <th>1</th>\n",
       "      <td>26883</td>\n",
       "      <td>49.6</td>\n",
       "      <td>145</td>\n",
       "      <td>Diesel</td>\n",
       "      <td>2.0</td>\n",
       "      <td>Automatic</td>\n",
       "      <td>4562</td>\n",
       "      <td>2</td>\n",
       "    </tr>\n",
       "    <tr>\n",
       "      <th>2</th>\n",
       "      <td>20000</td>\n",
       "      <td>50.4</td>\n",
       "      <td>145</td>\n",
       "      <td>Diesel</td>\n",
       "      <td>2.0</td>\n",
       "      <td>Manual</td>\n",
       "      <td>7414</td>\n",
       "      <td>2</td>\n",
       "    </tr>\n",
       "    <tr>\n",
       "      <th>3</th>\n",
       "      <td>33492</td>\n",
       "      <td>32.5</td>\n",
       "      <td>145</td>\n",
       "      <td>Petrol</td>\n",
       "      <td>2.0</td>\n",
       "      <td>Automatic</td>\n",
       "      <td>4825</td>\n",
       "      <td>2</td>\n",
       "    </tr>\n",
       "    <tr>\n",
       "      <th>4</th>\n",
       "      <td>22900</td>\n",
       "      <td>39.8</td>\n",
       "      <td>150</td>\n",
       "      <td>Petrol</td>\n",
       "      <td>1.5</td>\n",
       "      <td>Semi-Auto</td>\n",
       "      <td>6500</td>\n",
       "      <td>2</td>\n",
       "    </tr>\n",
       "  </tbody>\n",
       "</table>\n",
       "</div>"
      ],
      "text/plain": [
       "   price   mpg  tax fuelType  engineSize transmission  mileage  \\\n",
       "0  25000  49.6  145   Diesel         2.0    Automatic    13904   \n",
       "1  26883  49.6  145   Diesel         2.0    Automatic     4562   \n",
       "2  20000  50.4  145   Diesel         2.0       Manual     7414   \n",
       "3  33492  32.5  145   Petrol         2.0    Automatic     4825   \n",
       "4  22900  39.8  150   Petrol         1.5    Semi-Auto     6500   \n",
       "\n",
       "   Number_of_Years_Old  \n",
       "0                    2  \n",
       "1                    2  \n",
       "2                    2  \n",
       "3                    2  \n",
       "4                    2  "
      ]
     },
     "execution_count": 8,
     "metadata": {},
     "output_type": "execute_result"
    }
   ],
   "source": [
    "dataset.drop(labels=['year', 'Present_Year'],axis=1,inplace=True)\n",
    "dataset.head()"
   ]
  },
  {
   "cell_type": "markdown",
   "metadata": {},
   "source": [
    "## Encoding the Categorical Variables"
   ]
  },
  {
   "cell_type": "code",
   "execution_count": 9,
   "metadata": {
    "ExecuteTime": {
     "end_time": "2021-04-13T10:37:23.919925Z",
     "start_time": "2021-04-13T10:37:23.892423Z"
    }
   },
   "outputs": [],
   "source": [
    "#select categorical variables from then dataset, and then implement categorical encoding for nominal variables\n",
    "Fuel_Type=dataset[['fuelType']]\n",
    "Fuel_Type=pd.get_dummies(Fuel_Type, drop_first=True)\n"
   ]
  },
  {
   "cell_type": "code",
   "execution_count": 10,
   "metadata": {
    "ExecuteTime": {
     "end_time": "2021-04-13T10:37:23.951930Z",
     "start_time": "2021-04-13T10:37:23.925926Z"
    }
   },
   "outputs": [],
   "source": [
    "\n",
    "Transmission=dataset[['transmission']]\n",
    "Transmission=pd.get_dummies(Transmission, drop_first=True)"
   ]
  },
  {
   "cell_type": "code",
   "execution_count": 11,
   "metadata": {
    "ExecuteTime": {
     "end_time": "2021-04-13T10:37:23.999129Z",
     "start_time": "2021-04-13T10:37:23.955929Z"
    }
   },
   "outputs": [
    {
     "data": {
      "text/html": [
       "<div>\n",
       "<style scoped>\n",
       "    .dataframe tbody tr th:only-of-type {\n",
       "        vertical-align: middle;\n",
       "    }\n",
       "\n",
       "    .dataframe tbody tr th {\n",
       "        vertical-align: top;\n",
       "    }\n",
       "\n",
       "    .dataframe thead th {\n",
       "        text-align: right;\n",
       "    }\n",
       "</style>\n",
       "<table border=\"1\" class=\"dataframe\">\n",
       "  <thead>\n",
       "    <tr style=\"text-align: right;\">\n",
       "      <th></th>\n",
       "      <th>price</th>\n",
       "      <th>mpg</th>\n",
       "      <th>tax</th>\n",
       "      <th>engineSize</th>\n",
       "      <th>mileage</th>\n",
       "      <th>Number_of_Years_Old</th>\n",
       "      <th>fuelType_Hybrid</th>\n",
       "      <th>fuelType_Other</th>\n",
       "      <th>fuelType_Petrol</th>\n",
       "      <th>transmission_Manual</th>\n",
       "      <th>transmission_Semi-Auto</th>\n",
       "    </tr>\n",
       "  </thead>\n",
       "  <tbody>\n",
       "    <tr>\n",
       "      <th>0</th>\n",
       "      <td>25000</td>\n",
       "      <td>49.6</td>\n",
       "      <td>145</td>\n",
       "      <td>2.0</td>\n",
       "      <td>13904</td>\n",
       "      <td>2</td>\n",
       "      <td>0</td>\n",
       "      <td>0</td>\n",
       "      <td>0</td>\n",
       "      <td>0</td>\n",
       "      <td>0</td>\n",
       "    </tr>\n",
       "    <tr>\n",
       "      <th>1</th>\n",
       "      <td>26883</td>\n",
       "      <td>49.6</td>\n",
       "      <td>145</td>\n",
       "      <td>2.0</td>\n",
       "      <td>4562</td>\n",
       "      <td>2</td>\n",
       "      <td>0</td>\n",
       "      <td>0</td>\n",
       "      <td>0</td>\n",
       "      <td>0</td>\n",
       "      <td>0</td>\n",
       "    </tr>\n",
       "    <tr>\n",
       "      <th>2</th>\n",
       "      <td>20000</td>\n",
       "      <td>50.4</td>\n",
       "      <td>145</td>\n",
       "      <td>2.0</td>\n",
       "      <td>7414</td>\n",
       "      <td>2</td>\n",
       "      <td>0</td>\n",
       "      <td>0</td>\n",
       "      <td>0</td>\n",
       "      <td>1</td>\n",
       "      <td>0</td>\n",
       "    </tr>\n",
       "    <tr>\n",
       "      <th>3</th>\n",
       "      <td>33492</td>\n",
       "      <td>32.5</td>\n",
       "      <td>145</td>\n",
       "      <td>2.0</td>\n",
       "      <td>4825</td>\n",
       "      <td>2</td>\n",
       "      <td>0</td>\n",
       "      <td>0</td>\n",
       "      <td>1</td>\n",
       "      <td>0</td>\n",
       "      <td>0</td>\n",
       "    </tr>\n",
       "    <tr>\n",
       "      <th>4</th>\n",
       "      <td>22900</td>\n",
       "      <td>39.8</td>\n",
       "      <td>150</td>\n",
       "      <td>1.5</td>\n",
       "      <td>6500</td>\n",
       "      <td>2</td>\n",
       "      <td>0</td>\n",
       "      <td>0</td>\n",
       "      <td>1</td>\n",
       "      <td>0</td>\n",
       "      <td>1</td>\n",
       "    </tr>\n",
       "  </tbody>\n",
       "</table>\n",
       "</div>"
      ],
      "text/plain": [
       "   price   mpg  tax  engineSize  mileage  Number_of_Years_Old  \\\n",
       "0  25000  49.6  145         2.0    13904                    2   \n",
       "1  26883  49.6  145         2.0     4562                    2   \n",
       "2  20000  50.4  145         2.0     7414                    2   \n",
       "3  33492  32.5  145         2.0     4825                    2   \n",
       "4  22900  39.8  150         1.5     6500                    2   \n",
       "\n",
       "   fuelType_Hybrid  fuelType_Other  fuelType_Petrol  transmission_Manual  \\\n",
       "0                0               0                0                    0   \n",
       "1                0               0                0                    0   \n",
       "2                0               0                0                    1   \n",
       "3                0               0                1                    0   \n",
       "4                0               0                1                    0   \n",
       "\n",
       "   transmission_Semi-Auto  \n",
       "0                       0  \n",
       "1                       0  \n",
       "2                       0  \n",
       "3                       0  \n",
       "4                       1  "
      ]
     },
     "execution_count": 11,
     "metadata": {},
     "output_type": "execute_result"
    }
   ],
   "source": [
    "\n",
    "\n",
    "dataset=pd.concat([dataset,Fuel_Type,Transmission], axis=1)\n",
    "\n",
    "dataset.drop(labels=['fuelType', 'transmission'], axis=1, inplace=True)\n",
    "\n",
    "dataset.head()"
   ]
  },
  {
   "cell_type": "code",
   "execution_count": 12,
   "metadata": {
    "ExecuteTime": {
     "end_time": "2021-04-13T10:37:24.013991Z",
     "start_time": "2021-04-13T10:37:24.003132Z"
    }
   },
   "outputs": [
    {
     "data": {
      "text/plain": [
       "Index(['price', 'mpg', 'tax', 'engineSize', 'mileage', 'Number_of_Years_Old',\n",
       "       'fuelType_Hybrid', 'fuelType_Other', 'fuelType_Petrol',\n",
       "       'transmission_Manual', 'transmission_Semi-Auto'],\n",
       "      dtype='object')"
      ]
     },
     "execution_count": 12,
     "metadata": {},
     "output_type": "execute_result"
    }
   ],
   "source": [
    "dataset.columns"
   ]
  },
  {
   "cell_type": "markdown",
   "metadata": {},
   "source": [
    "Now, the encoding has been done "
   ]
  },
  {
   "cell_type": "code",
   "execution_count": 13,
   "metadata": {
    "ExecuteTime": {
     "end_time": "2021-04-13T10:37:24.088481Z",
     "start_time": "2021-04-13T10:37:24.018988Z"
    }
   },
   "outputs": [
    {
     "data": {
      "text/html": [
       "<div>\n",
       "<style scoped>\n",
       "    .dataframe tbody tr th:only-of-type {\n",
       "        vertical-align: middle;\n",
       "    }\n",
       "\n",
       "    .dataframe tbody tr th {\n",
       "        vertical-align: top;\n",
       "    }\n",
       "\n",
       "    .dataframe thead th {\n",
       "        text-align: right;\n",
       "    }\n",
       "</style>\n",
       "<table border=\"1\" class=\"dataframe\">\n",
       "  <thead>\n",
       "    <tr style=\"text-align: right;\">\n",
       "      <th></th>\n",
       "      <th>price</th>\n",
       "      <th>mpg</th>\n",
       "      <th>tax</th>\n",
       "      <th>engineSize</th>\n",
       "      <th>mileage</th>\n",
       "      <th>Number_of_Years_Old</th>\n",
       "      <th>fuelType_Hybrid</th>\n",
       "      <th>fuelType_Other</th>\n",
       "      <th>fuelType_Petrol</th>\n",
       "      <th>transmission_Manual</th>\n",
       "      <th>transmission_Semi-Auto</th>\n",
       "    </tr>\n",
       "  </thead>\n",
       "  <tbody>\n",
       "    <tr>\n",
       "      <th>price</th>\n",
       "      <td>1.000000</td>\n",
       "      <td>-0.496844</td>\n",
       "      <td>0.482964</td>\n",
       "      <td>0.575139</td>\n",
       "      <td>-0.517599</td>\n",
       "      <td>-0.614748</td>\n",
       "      <td>0.096566</td>\n",
       "      <td>0.043410</td>\n",
       "      <td>-0.242342</td>\n",
       "      <td>-0.516948</td>\n",
       "      <td>0.357926</td>\n",
       "    </tr>\n",
       "    <tr>\n",
       "      <th>mpg</th>\n",
       "      <td>-0.496844</td>\n",
       "      <td>1.000000</td>\n",
       "      <td>-0.518440</td>\n",
       "      <td>-0.277009</td>\n",
       "      <td>0.328949</td>\n",
       "      <td>0.297173</td>\n",
       "      <td>0.469737</td>\n",
       "      <td>0.015599</td>\n",
       "      <td>-0.194543</td>\n",
       "      <td>0.263480</td>\n",
       "      <td>-0.181092</td>\n",
       "    </tr>\n",
       "    <tr>\n",
       "      <th>tax</th>\n",
       "      <td>0.482964</td>\n",
       "      <td>-0.518440</td>\n",
       "      <td>1.000000</td>\n",
       "      <td>0.291077</td>\n",
       "      <td>-0.330231</td>\n",
       "      <td>-0.365796</td>\n",
       "      <td>0.000182</td>\n",
       "      <td>0.022648</td>\n",
       "      <td>-0.010473</td>\n",
       "      <td>-0.267064</td>\n",
       "      <td>0.157020</td>\n",
       "    </tr>\n",
       "    <tr>\n",
       "      <th>engineSize</th>\n",
       "      <td>0.575139</td>\n",
       "      <td>-0.277009</td>\n",
       "      <td>0.291077</td>\n",
       "      <td>1.000000</td>\n",
       "      <td>0.110513</td>\n",
       "      <td>-0.004957</td>\n",
       "      <td>-0.039786</td>\n",
       "      <td>0.005750</td>\n",
       "      <td>-0.646242</td>\n",
       "      <td>-0.418441</td>\n",
       "      <td>0.271924</td>\n",
       "    </tr>\n",
       "    <tr>\n",
       "      <th>mileage</th>\n",
       "      <td>-0.517599</td>\n",
       "      <td>0.328949</td>\n",
       "      <td>-0.330231</td>\n",
       "      <td>0.110513</td>\n",
       "      <td>1.000000</td>\n",
       "      <td>0.762574</td>\n",
       "      <td>-0.005767</td>\n",
       "      <td>-0.025097</td>\n",
       "      <td>-0.216018</td>\n",
       "      <td>0.161377</td>\n",
       "      <td>-0.135747</td>\n",
       "    </tr>\n",
       "    <tr>\n",
       "      <th>Number_of_Years_Old</th>\n",
       "      <td>-0.614748</td>\n",
       "      <td>0.297173</td>\n",
       "      <td>-0.365796</td>\n",
       "      <td>-0.004957</td>\n",
       "      <td>0.762574</td>\n",
       "      <td>1.000000</td>\n",
       "      <td>-0.041899</td>\n",
       "      <td>-0.033499</td>\n",
       "      <td>-0.051410</td>\n",
       "      <td>0.197946</td>\n",
       "      <td>-0.165943</td>\n",
       "    </tr>\n",
       "    <tr>\n",
       "      <th>fuelType_Hybrid</th>\n",
       "      <td>0.096566</td>\n",
       "      <td>0.469737</td>\n",
       "      <td>0.000182</td>\n",
       "      <td>-0.039786</td>\n",
       "      <td>-0.005767</td>\n",
       "      <td>-0.041899</td>\n",
       "      <td>1.000000</td>\n",
       "      <td>-0.007467</td>\n",
       "      <td>-0.111846</td>\n",
       "      <td>-0.125882</td>\n",
       "      <td>0.096874</td>\n",
       "    </tr>\n",
       "    <tr>\n",
       "      <th>fuelType_Other</th>\n",
       "      <td>0.043410</td>\n",
       "      <td>0.015599</td>\n",
       "      <td>0.022648</td>\n",
       "      <td>0.005750</td>\n",
       "      <td>-0.025097</td>\n",
       "      <td>-0.033499</td>\n",
       "      <td>-0.007467</td>\n",
       "      <td>1.000000</td>\n",
       "      <td>-0.086469</td>\n",
       "      <td>-0.054109</td>\n",
       "      <td>-0.041778</td>\n",
       "    </tr>\n",
       "    <tr>\n",
       "      <th>fuelType_Petrol</th>\n",
       "      <td>-0.242342</td>\n",
       "      <td>-0.194543</td>\n",
       "      <td>-0.010473</td>\n",
       "      <td>-0.646242</td>\n",
       "      <td>-0.216018</td>\n",
       "      <td>-0.051410</td>\n",
       "      <td>-0.111846</td>\n",
       "      <td>-0.086469</td>\n",
       "      <td>1.000000</td>\n",
       "      <td>0.175021</td>\n",
       "      <td>-0.100265</td>\n",
       "    </tr>\n",
       "    <tr>\n",
       "      <th>transmission_Manual</th>\n",
       "      <td>-0.516948</td>\n",
       "      <td>0.263480</td>\n",
       "      <td>-0.267064</td>\n",
       "      <td>-0.418441</td>\n",
       "      <td>0.161377</td>\n",
       "      <td>0.197946</td>\n",
       "      <td>-0.125882</td>\n",
       "      <td>-0.054109</td>\n",
       "      <td>0.175021</td>\n",
       "      <td>1.000000</td>\n",
       "      <td>-0.738299</td>\n",
       "    </tr>\n",
       "    <tr>\n",
       "      <th>transmission_Semi-Auto</th>\n",
       "      <td>0.357926</td>\n",
       "      <td>-0.181092</td>\n",
       "      <td>0.157020</td>\n",
       "      <td>0.271924</td>\n",
       "      <td>-0.135747</td>\n",
       "      <td>-0.165943</td>\n",
       "      <td>0.096874</td>\n",
       "      <td>-0.041778</td>\n",
       "      <td>-0.100265</td>\n",
       "      <td>-0.738299</td>\n",
       "      <td>1.000000</td>\n",
       "    </tr>\n",
       "  </tbody>\n",
       "</table>\n",
       "</div>"
      ],
      "text/plain": [
       "                           price       mpg       tax  engineSize   mileage  \\\n",
       "price                   1.000000 -0.496844  0.482964    0.575139 -0.517599   \n",
       "mpg                    -0.496844  1.000000 -0.518440   -0.277009  0.328949   \n",
       "tax                     0.482964 -0.518440  1.000000    0.291077 -0.330231   \n",
       "engineSize              0.575139 -0.277009  0.291077    1.000000  0.110513   \n",
       "mileage                -0.517599  0.328949 -0.330231    0.110513  1.000000   \n",
       "Number_of_Years_Old    -0.614748  0.297173 -0.365796   -0.004957  0.762574   \n",
       "fuelType_Hybrid         0.096566  0.469737  0.000182   -0.039786 -0.005767   \n",
       "fuelType_Other          0.043410  0.015599  0.022648    0.005750 -0.025097   \n",
       "fuelType_Petrol        -0.242342 -0.194543 -0.010473   -0.646242 -0.216018   \n",
       "transmission_Manual    -0.516948  0.263480 -0.267064   -0.418441  0.161377   \n",
       "transmission_Semi-Auto  0.357926 -0.181092  0.157020    0.271924 -0.135747   \n",
       "\n",
       "                        Number_of_Years_Old  fuelType_Hybrid  fuelType_Other  \\\n",
       "price                             -0.614748         0.096566        0.043410   \n",
       "mpg                                0.297173         0.469737        0.015599   \n",
       "tax                               -0.365796         0.000182        0.022648   \n",
       "engineSize                        -0.004957        -0.039786        0.005750   \n",
       "mileage                            0.762574        -0.005767       -0.025097   \n",
       "Number_of_Years_Old                1.000000        -0.041899       -0.033499   \n",
       "fuelType_Hybrid                   -0.041899         1.000000       -0.007467   \n",
       "fuelType_Other                    -0.033499        -0.007467        1.000000   \n",
       "fuelType_Petrol                   -0.051410        -0.111846       -0.086469   \n",
       "transmission_Manual                0.197946        -0.125882       -0.054109   \n",
       "transmission_Semi-Auto            -0.165943         0.096874       -0.041778   \n",
       "\n",
       "                        fuelType_Petrol  transmission_Manual  \\\n",
       "price                         -0.242342            -0.516948   \n",
       "mpg                           -0.194543             0.263480   \n",
       "tax                           -0.010473            -0.267064   \n",
       "engineSize                    -0.646242            -0.418441   \n",
       "mileage                       -0.216018             0.161377   \n",
       "Number_of_Years_Old           -0.051410             0.197946   \n",
       "fuelType_Hybrid               -0.111846            -0.125882   \n",
       "fuelType_Other                -0.086469            -0.054109   \n",
       "fuelType_Petrol                1.000000             0.175021   \n",
       "transmission_Manual            0.175021             1.000000   \n",
       "transmission_Semi-Auto        -0.100265            -0.738299   \n",
       "\n",
       "                        transmission_Semi-Auto  \n",
       "price                                 0.357926  \n",
       "mpg                                  -0.181092  \n",
       "tax                                   0.157020  \n",
       "engineSize                            0.271924  \n",
       "mileage                              -0.135747  \n",
       "Number_of_Years_Old                  -0.165943  \n",
       "fuelType_Hybrid                       0.096874  \n",
       "fuelType_Other                       -0.041778  \n",
       "fuelType_Petrol                      -0.100265  \n",
       "transmission_Manual                  -0.738299  \n",
       "transmission_Semi-Auto                1.000000  "
      ]
     },
     "execution_count": 13,
     "metadata": {},
     "output_type": "execute_result"
    }
   ],
   "source": [
    "# Dataset Correlation\n",
    "dataset.corr()"
   ]
  },
  {
   "cell_type": "markdown",
   "metadata": {},
   "source": [
    "## Data Visualization and Correlation"
   ]
  },
  {
   "cell_type": "code",
   "execution_count": 14,
   "metadata": {
    "ExecuteTime": {
     "end_time": "2021-04-13T10:37:25.493041Z",
     "start_time": "2021-04-13T10:37:24.088481Z"
    }
   },
   "outputs": [
    {
     "data": {
      "text/plain": [
       "<AxesSubplot:>"
      ]
     },
     "execution_count": 14,
     "metadata": {},
     "output_type": "execute_result"
    },
    {
     "data": {
      "image/png": "[encoded data removed]",
      "text/plain": [
       "<Figure size 720x720 with 2 Axes>"
      ]
     },
     "metadata": {
      "needs_background": "light"
     },
     "output_type": "display_data"
    }
   ],
   "source": [
    "#Correlations of features in dataset\n",
    "corrmat = data.corr()\n",
    "top_corr_features = corrmat.index\n",
    "plt.figure(figsize=(10,10))\n",
    "#Plot heat map\n",
    "sns.heatmap(data[top_corr_features].corr(),annot=True,cmap=\"RdYlGn\")"
   ]
  },
  {
   "cell_type": "code",
   "execution_count": 15,
   "metadata": {
    "ExecuteTime": {
     "end_time": "2021-04-13T10:37:25.541884Z",
     "start_time": "2021-04-13T10:37:25.494082Z"
    }
   },
   "outputs": [
    {
     "data": {
      "text/html": [
       "<div>\n",
       "<style scoped>\n",
       "    .dataframe tbody tr th:only-of-type {\n",
       "        vertical-align: middle;\n",
       "    }\n",
       "\n",
       "    .dataframe tbody tr th {\n",
       "        vertical-align: top;\n",
       "    }\n",
       "\n",
       "    .dataframe thead th {\n",
       "        text-align: right;\n",
       "    }\n",
       "</style>\n",
       "<table border=\"1\" class=\"dataframe\">\n",
       "  <thead>\n",
       "    <tr style=\"text-align: right;\">\n",
       "      <th></th>\n",
       "      <th>mpg</th>\n",
       "      <th>tax</th>\n",
       "      <th>engineSize</th>\n",
       "      <th>mileage</th>\n",
       "      <th>Number_of_Years_Old</th>\n",
       "      <th>fuelType_Hybrid</th>\n",
       "      <th>fuelType_Other</th>\n",
       "      <th>fuelType_Petrol</th>\n",
       "      <th>transmission_Manual</th>\n",
       "      <th>transmission_Semi-Auto</th>\n",
       "      <th>price</th>\n",
       "    </tr>\n",
       "  </thead>\n",
       "  <tbody>\n",
       "    <tr>\n",
       "      <th>0</th>\n",
       "      <td>49.6</td>\n",
       "      <td>145</td>\n",
       "      <td>2.0</td>\n",
       "      <td>13904</td>\n",
       "      <td>2</td>\n",
       "      <td>0</td>\n",
       "      <td>0</td>\n",
       "      <td>0</td>\n",
       "      <td>0</td>\n",
       "      <td>0</td>\n",
       "      <td>25000</td>\n",
       "    </tr>\n",
       "    <tr>\n",
       "      <th>1</th>\n",
       "      <td>49.6</td>\n",
       "      <td>145</td>\n",
       "      <td>2.0</td>\n",
       "      <td>4562</td>\n",
       "      <td>2</td>\n",
       "      <td>0</td>\n",
       "      <td>0</td>\n",
       "      <td>0</td>\n",
       "      <td>0</td>\n",
       "      <td>0</td>\n",
       "      <td>26883</td>\n",
       "    </tr>\n",
       "    <tr>\n",
       "      <th>2</th>\n",
       "      <td>50.4</td>\n",
       "      <td>145</td>\n",
       "      <td>2.0</td>\n",
       "      <td>7414</td>\n",
       "      <td>2</td>\n",
       "      <td>0</td>\n",
       "      <td>0</td>\n",
       "      <td>0</td>\n",
       "      <td>1</td>\n",
       "      <td>0</td>\n",
       "      <td>20000</td>\n",
       "    </tr>\n",
       "    <tr>\n",
       "      <th>3</th>\n",
       "      <td>32.5</td>\n",
       "      <td>145</td>\n",
       "      <td>2.0</td>\n",
       "      <td>4825</td>\n",
       "      <td>2</td>\n",
       "      <td>0</td>\n",
       "      <td>0</td>\n",
       "      <td>1</td>\n",
       "      <td>0</td>\n",
       "      <td>0</td>\n",
       "      <td>33492</td>\n",
       "    </tr>\n",
       "    <tr>\n",
       "      <th>4</th>\n",
       "      <td>39.8</td>\n",
       "      <td>150</td>\n",
       "      <td>1.5</td>\n",
       "      <td>6500</td>\n",
       "      <td>2</td>\n",
       "      <td>0</td>\n",
       "      <td>0</td>\n",
       "      <td>1</td>\n",
       "      <td>0</td>\n",
       "      <td>1</td>\n",
       "      <td>22900</td>\n",
       "    </tr>\n",
       "  </tbody>\n",
       "</table>\n",
       "</div>"
      ],
      "text/plain": [
       "    mpg  tax  engineSize  mileage  Number_of_Years_Old  fuelType_Hybrid  \\\n",
       "0  49.6  145         2.0    13904                    2                0   \n",
       "1  49.6  145         2.0     4562                    2                0   \n",
       "2  50.4  145         2.0     7414                    2                0   \n",
       "3  32.5  145         2.0     4825                    2                0   \n",
       "4  39.8  150         1.5     6500                    2                0   \n",
       "\n",
       "   fuelType_Other  fuelType_Petrol  transmission_Manual  \\\n",
       "0               0                0                    0   \n",
       "1               0                0                    0   \n",
       "2               0                0                    1   \n",
       "3               0                1                    0   \n",
       "4               0                1                    0   \n",
       "\n",
       "   transmission_Semi-Auto  price  \n",
       "0                       0  25000  \n",
       "1                       0  26883  \n",
       "2                       0  20000  \n",
       "3                       0  33492  \n",
       "4                       1  22900  "
      ]
     },
     "execution_count": 15,
     "metadata": {},
     "output_type": "execute_result"
    }
   ],
   "source": [
    "sell = dataset['price']\n",
    "dataset.drop(['price'],axis=1,inplace=True)\n",
    "dataset=dataset.join(sell)\n",
    "dataset.head()"
   ]
  },
  {
   "cell_type": "code",
   "execution_count": 16,
   "metadata": {
    "ExecuteTime": {
     "end_time": "2021-04-13T10:37:25.586919Z",
     "start_time": "2021-04-13T10:37:25.546933Z"
    }
   },
   "outputs": [],
   "source": [
    "X=dataset.iloc[:,:-1]\n",
    "y=dataset.iloc[:,-1]"
   ]
  },
  {
   "cell_type": "code",
   "execution_count": 17,
   "metadata": {
    "ExecuteTime": {
     "end_time": "2021-04-13T10:37:33.810438Z",
     "start_time": "2021-04-13T10:37:25.590920Z"
    }
   },
   "outputs": [
    {
     "name": "stdout",
     "output_type": "stream",
     "text": [
      "[0.22179089 0.07839882 0.13686178 0.11231709 0.1844123  0.00426915\n",
      " 0.00077307 0.03572285 0.22213531 0.00331872]\n"
     ]
    },
    {
     "data": {
      "image/png": "[encoded data removed]",
      "text/plain": [
       "<Figure size 432x288 with 1 Axes>"
      ]
     },
     "metadata": {
      "needs_background": "light"
     },
     "output_type": "display_data"
    }
   ],
   "source": [
    "### To determine important features, make use of ExtraTreesRegressor\n",
    "from sklearn.ensemble import ExtraTreesRegressor\n",
    "model = ExtraTreesRegressor()\n",
    "model.fit(X,y)\n",
    "\n",
    "print(model.feature_importances_)\n",
    "\n",
    "#plot graph of feature importances for better visualization\n",
    "feat_importances = pd.Series(model.feature_importances_, index=X.columns)\n",
    "feat_importances.nlargest(10).plot(kind='barh')\n",
    "plt.show()"
   ]
  },
  {
   "cell_type": "markdown",
   "metadata": {},
   "source": [
    "'Owner' has zero feature importance i.e. nil on the dependent variable, 'Selling_Price'"
   ]
  },
  {
   "cell_type": "markdown",
   "metadata": {},
   "source": [
    "## Model Building and Training"
   ]
  },
  {
   "cell_type": "code",
   "execution_count": 18,
   "metadata": {
    "ExecuteTime": {
     "end_time": "2021-04-13T10:37:33.842211Z",
     "start_time": "2021-04-13T10:37:33.814439Z"
    }
   },
   "outputs": [],
   "source": [
    "X=dataset.iloc[:,:-1].values\n",
    "y=dataset.iloc[:,-1].values"
   ]
  },
  {
   "cell_type": "code",
   "execution_count": 19,
   "metadata": {
    "ExecuteTime": {
     "end_time": "2021-04-13T10:37:33.875453Z",
     "start_time": "2021-04-13T10:37:33.846212Z"
    }
   },
   "outputs": [],
   "source": [
    "from sklearn.model_selection import cross_val_score\n",
    "from sklearn import metrics\n",
    "from sklearn.metrics import mean_absolute_error\n",
    "from sklearn.metrics import mean_squared_error\n",
    "#from sklearn.model_selection import RandomizedSearchCV\n",
    "#from sklearn.model_selection import GridSearchCV\n",
    "#from sklearn.model_selection import StratifiedKFold\n",
    "#kfold = StratifiedKFold(n_splits=3)"
   ]
  },
  {
   "cell_type": "code",
   "execution_count": 20,
   "metadata": {
    "ExecuteTime": {
     "end_time": "2021-04-13T10:37:33.906995Z",
     "start_time": "2021-04-13T10:37:33.887765Z"
    }
   },
   "outputs": [],
   "source": [
    "from sklearn.model_selection import train_test_split\n",
    "X_train, X_test, y_train, y_test = train_test_split(X, y, test_size=0.3, random_state=0)"
   ]
  },
  {
   "cell_type": "markdown",
   "metadata": {},
   "source": [
    "#### Decision Tree Regressor"
   ]
  },
  {
   "cell_type": "code",
   "execution_count": 21,
   "metadata": {
    "ExecuteTime": {
     "end_time": "2021-04-13T10:37:35.501079Z",
     "start_time": "2021-04-13T10:37:33.915352Z"
    }
   },
   "outputs": [
    {
     "name": "stdout",
     "output_type": "stream",
     "text": [
      "Decision Tree Score on Training set is 0.9988288148305331\n",
      "Decision Tree Score on Test Set is 0.8934726751369897\n",
      "[0.90396261 0.89181981 0.88084562 0.90201598 0.90710023]\n",
      "Accuracy: 89.71 %\n",
      "Standard Deviation: 0.96 %\n",
      "Mean Absolute Error: 1552.562217824685\n",
      "Mean Squared Error: 6490687.234005912\n",
      "RMSE: 2547.6827184729877\n",
      "The r2_score is 0.8934726751369897\n"
     ]
    },
    {
     "name": "stderr",
     "output_type": "stream",
     "text": [
      "C:\\Users\\bashi\\anaconda3\\lib\\site-packages\\seaborn\\distributions.py:2551: FutureWarning: `distplot` is a deprecated function and will be removed in a future version. Please adapt your code to use either `displot` (a figure-level function with similar flexibility) or `histplot` (an axes-level function for histograms).\n",
      "  warnings.warn(msg, FutureWarning)\n"
     ]
    },
    {
     "data": {
      "image/png": "[encoded data removed]",
      "text/plain": [
       "<Figure size 432x288 with 1 Axes>"
      ]
     },
     "metadata": {
      "needs_background": "light"
     },
     "output_type": "display_data"
    },
    {
     "data": {
      "image/png": "[encoded data removed]",
      "text/plain": [
       "<Figure size 432x288 with 1 Axes>"
      ]
     },
     "metadata": {
      "needs_background": "light"
     },
     "output_type": "display_data"
    }
   ],
   "source": [
    "#Decision Tree Regressor\n",
    "from sklearn.tree import DecisionTreeRegressor\n",
    "dt_reg = DecisionTreeRegressor(random_state = 0)\n",
    "dt_reg.fit(X_train, y_train)\n",
    "y_pred=dt_reg.predict(X_test)\n",
    "\n",
    "print(\"Decision Tree Score on Training set is\",dt_reg.score(X_train, y_train))#Training Accuracy\n",
    "print(\"Decision Tree Score on Test Set is\",dt_reg.score(X_test, y_test))#Testing Accuracy\n",
    "\n",
    "accuracies = cross_val_score(dt_reg, X_train, y_train, cv = 5)\n",
    "print(accuracies)\n",
    "print(\"Accuracy: {:.2f} %\".format(accuracies.mean()*100))\n",
    "print(\"Standard Deviation: {:.2f} %\".format(accuracies.std()*100))\n",
    "\n",
    "mae=mean_absolute_error(y_pred, y_test)\n",
    "print(\"Mean Absolute Error:\" , mae)\n",
    "\n",
    "mse=mean_squared_error(y_test, y_pred)\n",
    "print(\"Mean Squared Error:\" , mse)\n",
    "\n",
    "print('RMSE:', np.sqrt(metrics.mean_squared_error(y_test, y_pred)))\n",
    "\n",
    "print('The r2_score is', metrics.r2_score(y_test, y_pred))\n",
    "\n",
    "sns.distplot(y_test-y_pred)\n",
    "plt.show()\n",
    "\n",
    "plt.scatter(y_test, y_pred, alpha = 0.5)\n",
    "plt.xlabel(\"y_test\")\n",
    "plt.ylabel(\"y_pred\")\n",
    "plt.show()"
   ]
  },
  {
   "cell_type": "markdown",
   "metadata": {},
   "source": [
    "#### Random Forest Regressor"
   ]
  },
  {
   "cell_type": "code",
   "execution_count": 22,
   "metadata": {
    "ExecuteTime": {
     "end_time": "2021-04-13T10:38:50.512595Z",
     "start_time": "2021-04-13T10:37:35.505082Z"
    }
   },
   "outputs": [
    {
     "name": "stdout",
     "output_type": "stream",
     "text": [
      "Random Forest Score on Training set is 0.9652241333386965\n",
      "Random Forest Score on Test Set is 0.9335612287480377\n",
      "[0.93542459 0.93459887 0.92835967 0.94606427 0.93797102]\n",
      "Accuracy: 93.65 %\n",
      "Standard Deviation: 0.57 %\n",
      "Mean Absolute Error: 1239.2816753741959\n",
      "Mean Squared Error: 4048100.1936610932\n",
      "RMSE: 2011.989113703425\n",
      "The r2_score is 0.9335612287480377\n"
     ]
    },
    {
     "name": "stderr",
     "output_type": "stream",
     "text": [
      "C:\\Users\\bashi\\anaconda3\\lib\\site-packages\\seaborn\\distributions.py:2551: FutureWarning: `distplot` is a deprecated function and will be removed in a future version. Please adapt your code to use either `displot` (a figure-level function with similar flexibility) or `histplot` (an axes-level function for histograms).\n",
      "  warnings.warn(msg, FutureWarning)\n"
     ]
    },
    {
     "data": {
      "image/png": "[encoded data removed]",
      "text/plain": [
       "<Figure size 432x288 with 1 Axes>"
      ]
     },
     "metadata": {
      "needs_background": "light"
     },
     "output_type": "display_data"
    },
    {
     "data": {
      "image/png": "[encoded data removed]",
      "text/plain": [
       "<Figure size 432x288 with 1 Axes>"
      ]
     },
     "metadata": {
      "needs_background": "light"
     },
     "output_type": "display_data"
    }
   ],
   "source": [
    "#Random Forest Regression\n",
    "from sklearn.ensemble import RandomForestRegressor\n",
    "rf_reg = RandomForestRegressor(n_estimators=400,min_samples_split=15,min_samples_leaf=2,\n",
    "max_features='auto', max_depth=30)\n",
    "rf_reg.fit(X_train, y_train)\n",
    "y_pred=rf_reg.predict(X_test)\n",
    "\n",
    "print(\"Random Forest Score on Training set is\",rf_reg.score(X_train, y_train))#Training Accuracy\n",
    "print(\"Random Forest Score on Test Set is\",rf_reg.score(X_test, y_test))#Testing Accuracy\n",
    "\n",
    "accuracies = cross_val_score(rf_reg, X_train, y_train, cv = 5)\n",
    "print(accuracies)\n",
    "print(\"Accuracy: {:.2f} %\".format(accuracies.mean()*100))\n",
    "print(\"Standard Deviation: {:.2f} %\".format(accuracies.std()*100))\n",
    "\n",
    "mae=mean_absolute_error(y_pred, y_test)\n",
    "print(\"Mean Absolute Error:\" , mae)\n",
    "\n",
    "mse=mean_squared_error(y_test, y_pred)\n",
    "print(\"Mean Squared Error:\" , mse)\n",
    "\n",
    "print('RMSE:', np.sqrt(metrics.mean_squared_error(y_test, y_pred)))\n",
    "\n",
    "print('The r2_score is', metrics.r2_score(y_test, y_pred))\n",
    "\n",
    "sns.distplot(y_test-y_pred)\n",
    "plt.show()\n",
    "\n",
    "plt.scatter(y_test, y_pred, alpha = 0.5)\n",
    "plt.xlabel(\"y_test\")\n",
    "plt.ylabel(\"y_pred\")\n",
    "plt.show()"
   ]
  },
  {
   "cell_type": "markdown",
   "metadata": {},
   "source": [
    "#### Voting Regressor"
   ]
  },
  {
   "cell_type": "markdown",
   "metadata": {},
   "source": [
    "##### Voting Regressor is an ensemble meta-estimator that fits several base regressors, each on the whole dataset to average the individual predictions to form a final prediction."
   ]
  },
  {
   "cell_type": "code",
   "execution_count": 23,
   "metadata": {
    "ExecuteTime": {
     "end_time": "2021-04-13T10:40:00.933628Z",
     "start_time": "2021-04-13T10:38:50.516597Z"
    }
   },
   "outputs": [
    {
     "name": "stdout",
     "output_type": "stream",
     "text": [
      "Voting Regresssor Score on Training set is 0.9904260367743519\n",
      "Voting Regresssor Score on Test Set is 0.9239911076742436\n",
      "[0.93146412 0.92751292 0.91615562 0.93660767 0.93385971]\n",
      "Accuracy: 92.91 %\n",
      "Standard Deviation: 0.71 %\n",
      "Mean Absolute Error: 1315.8923473676539\n",
      "Mean Squared Error: 4631205.634086319\n",
      "RMSE: 2152.0236137380834\n",
      "The r2_score is 0.9239911076742436\n"
     ]
    },
    {
     "name": "stderr",
     "output_type": "stream",
     "text": [
      "C:\\Users\\bashi\\anaconda3\\lib\\site-packages\\seaborn\\distributions.py:2551: FutureWarning: `distplot` is a deprecated function and will be removed in a future version. Please adapt your code to use either `displot` (a figure-level function with similar flexibility) or `histplot` (an axes-level function for histograms).\n",
      "  warnings.warn(msg, FutureWarning)\n"
     ]
    },
    {
     "data": {
      "image/png": "[encoded data removed]",
      "text/plain": [
       "<Figure size 432x288 with 1 Axes>"
      ]
     },
     "metadata": {
      "needs_background": "light"
     },
     "output_type": "display_data"
    },
    {
     "data": {
      "image/png": "[encoded data removed]",
      "text/plain": [
       "<Figure size 432x288 with 1 Axes>"
      ]
     },
     "metadata": {
      "needs_background": "light"
     },
     "output_type": "display_data"
    }
   ],
   "source": [
    "from sklearn.ensemble import VotingRegressor\n",
    "vot_reg = VotingRegressor([('DecisionTree', dt_reg), ('RandomForestRegressor', rf_reg)])\n",
    "vot_reg.fit(X_train, y_train)\n",
    "y_pred=vot_reg.predict(X_test)\n",
    "\n",
    "print(\"Voting Regresssor Score on Training set is\",vot_reg.score(X_train, y_train))#Training Accuracy\n",
    "print(\"Voting Regresssor Score on Test Set is\",vot_reg.score(X_test, y_test))#Testing Accuracy\n",
    "\n",
    "accuracies = cross_val_score(vot_reg, X_train, y_train, cv = 5)\n",
    "print(accuracies)\n",
    "print(\"Accuracy: {:.2f} %\".format(accuracies.mean()*100))\n",
    "print(\"Standard Deviation: {:.2f} %\".format(accuracies.std()*100))\n",
    "\n",
    "mae=mean_absolute_error(y_pred, y_test)\n",
    "print(\"Mean Absolute Error:\" , mae)\n",
    "\n",
    "mse=mean_squared_error(y_test, y_pred)\n",
    "print(\"Mean Squared Error:\" , mse)\n",
    "\n",
    "print('RMSE:', np.sqrt(metrics.mean_squared_error(y_test, y_pred)))\n",
    "\n",
    "print('The r2_score is', metrics.r2_score(y_test, y_pred))\n",
    "\n",
    "sns.distplot(y_test-y_pred)\n",
    "plt.show()\n",
    "\n",
    "plt.scatter(y_test, y_pred, alpha = 0.5)\n",
    "plt.xlabel(\"y_test\")\n",
    "plt.ylabel(\"y_pred\")\n",
    "plt.show()"
   ]
  },
  {
   "cell_type": "markdown",
   "metadata": {},
   "source": [
    "So, the XGBoost Regressor gave us best scores on the Training Dataset"
   ]
  },
  {
   "cell_type": "markdown",
   "metadata": {},
   "source": [
    "## Dump the model selected as a Pickle File"
   ]
  },
  {
   "cell_type": "code",
   "execution_count": 25,
   "metadata": {
    "ExecuteTime": {
     "end_time": "2021-04-13T10:41:32.339478Z",
     "start_time": "2021-04-13T10:41:31.657950Z"
    }
   },
   "outputs": [
    {
     "data": {
      "text/plain": [
       "array([20690.71316053])"
      ]
     },
     "execution_count": 25,
     "metadata": {},
     "output_type": "execute_result"
    }
   ],
   "source": [
    "import pickle\n",
    "pickle.dump(vot_reg, open(\"vot_reg.pkl\", \"wb\"))\n",
    "\n",
    "# load model from file\n",
    "model = pickle.load(open(\"vot_reg.pkl\", \"rb\"))\n",
    "\n",
    "model.predict([[7414, 50.4, 145, 2.0, 2, 0, 0,0, 1,0]])"
   ]
  },
  {
   "cell_type": "code",
   "execution_count": null,
   "metadata": {},
   "outputs": [],
   "source": []
  }
 ],
 "metadata": {
  "hide_input": false,
  "kernelspec": {
   "display_name": "Python 3",
   "language": "python",
   "name": "python3"
  },
  "language_info": {
   "codemirror_mode": {
    "name": "ipython",
    "version": 3
   },
   "file_extension": ".py",
   "mimetype": "text/x-python",
   "name": "python",
   "nbconvert_exporter": "python",
   "pygments_lexer": "ipython3",
   "version": "3.8.5"
  },
  "toc": {
   "base_numbering": 1,
   "nav_menu": {},
   "number_sections": true,
   "sideBar": true,
   "skip_h1_title": false,
   "title_cell": "Table of Contents",
   "title_sidebar": "Contents",
   "toc_cell": false,
   "toc_position": {},
   "toc_section_display": true,
   "toc_window_display": false
  },
  "varInspector": {
   "cols": {
    "lenName": 16,
    "lenType": 16,
    "lenVar": 40
   },
   "kernels_config": {
    "python": {
     "delete_cmd_postfix": "",
     "delete_cmd_prefix": "del ",
     "library": "var_list.py",
     "varRefreshCmd": "print(var_dic_list())"
    },
    "r": {
     "delete_cmd_postfix": ") ",
     "delete_cmd_prefix": "rm(",
     "library": "var_list.r",
     "varRefreshCmd": "cat(var_dic_list()) "
    }
   },
   "types_to_exclude": [
    "module",
    "function",
    "builtin_function_or_method",
    "instance",
    "_Feature"
   ],
   "window_display": false
  }
 },
 "nbformat": 4,
 "nbformat_minor": 4
}
